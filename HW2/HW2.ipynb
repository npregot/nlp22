{
  "cells": [
    {
      "cell_type": "markdown",
      "metadata": {
        "id": "JZFoTZ9Rd4bP"
      },
      "source": [
        "<a href=\"https://colab.research.google.com/github/dbamman/nlp22/blob/master/HW2/HW2.ipynb\" target=\"_parent\"><img src=\"https://colab.research.google.com/assets/colab-badge.svg\" alt=\"Open In Colab\"/></a>"
      ]
    },
    {
      "cell_type": "code",
      "execution_count": 74,
      "metadata": {
        "id": "TQTT9x-6d2JI"
      },
      "outputs": [],
      "source": [
        "import sys, argparse\n",
        "from scipy import sparse\n",
        "from sklearn import linear_model\n",
        "from collections import Counter\n",
        "import numpy as np\n",
        "import re\n",
        "from collections import Counter, defaultdict\n",
        "import operator\n",
        "import nltk\n",
        "import csv\n",
        "from sklearn.metrics import plot_confusion_matrix\n",
        "import matplotlib.pyplot as plt\n",
        "import pandas as pd\n",
        "from pandas import option_context"
      ]
    },
    {
      "cell_type": "code",
      "execution_count": 75,
      "metadata": {
        "colab": {
          "base_uri": "https://localhost:8080/"
        },
        "id": "e4KuVSCSqlUX",
        "outputId": "83ddb0d2-099a-4f6c-c47a-3664c2993805"
      },
      "outputs": [
        {
          "output_type": "stream",
          "name": "stdout",
          "text": [
            "/usr/lib/python3.7/runpy.py:125: RuntimeWarning: 'nltk.downloader' found in sys.modules after import of package 'nltk', but prior to execution of 'nltk.downloader'; this may result in unpredictable behaviour\n",
            "  warn(RuntimeWarning(msg))\n",
            "[nltk_data] Downloading package punkt to /root/nltk_data...\n",
            "[nltk_data]   Package punkt is already up-to-date!\n"
          ]
        }
      ],
      "source": [
        "!python -m nltk.downloader punkt"
      ]
    },
    {
      "cell_type": "markdown",
      "metadata": {
        "id": "1Hk07KCgwoZy"
      },
      "source": [
        "Let's download the data we'll use for training and development, and also the data we'll use to make predictions for."
      ]
    },
    {
      "cell_type": "code",
      "execution_count": 57,
      "metadata": {
        "colab": {
          "base_uri": "https://localhost:8080/"
        },
        "id": "hn0XtfFeqP2P",
        "outputId": "d4232a0f-7f97-4395-ec35-3ebe0bbb3976"
      },
      "outputs": [
        {
          "output_type": "stream",
          "name": "stdout",
          "text": [
            "--2022-02-02 22:44:51--  https://raw.githubusercontent.com/dbamman/nlp22/main/HW2/train.txt\n",
            "Resolving raw.githubusercontent.com (raw.githubusercontent.com)... 185.199.108.133, 185.199.110.133, 185.199.109.133, ...\n",
            "Connecting to raw.githubusercontent.com (raw.githubusercontent.com)|185.199.108.133|:443... connected.\n",
            "HTTP request sent, awaiting response... 200 OK\n",
            "Length: 1322055 (1.3M) [text/plain]\n",
            "Saving to: ‘train.txt.5’\n",
            "\n",
            "train.txt.5         100%[===================>]   1.26M  --.-KB/s    in 0.02s   \n",
            "\n",
            "2022-02-02 22:44:52 (54.0 MB/s) - ‘train.txt.5’ saved [1322055/1322055]\n",
            "\n",
            "--2022-02-02 22:44:52--  https://raw.githubusercontent.com/dbamman/nlp22/main/HW2/dev.txt\n",
            "Resolving raw.githubusercontent.com (raw.githubusercontent.com)... 185.199.108.133, 185.199.109.133, 185.199.110.133, ...\n",
            "Connecting to raw.githubusercontent.com (raw.githubusercontent.com)|185.199.108.133|:443... connected.\n",
            "HTTP request sent, awaiting response... 200 OK\n",
            "Length: 1309909 (1.2M) [text/plain]\n",
            "Saving to: ‘dev.txt.5’\n",
            "\n",
            "dev.txt.5           100%[===================>]   1.25M  --.-KB/s    in 0.02s   \n",
            "\n",
            "2022-02-02 22:44:52 (51.8 MB/s) - ‘dev.txt.5’ saved [1309909/1309909]\n",
            "\n",
            "--2022-02-02 22:44:52--  https://raw.githubusercontent.com/dbamman/nlp22/main/HW2/test.txt\n",
            "Resolving raw.githubusercontent.com (raw.githubusercontent.com)... 185.199.108.133, 185.199.109.133, 185.199.110.133, ...\n",
            "Connecting to raw.githubusercontent.com (raw.githubusercontent.com)|185.199.108.133|:443... connected.\n",
            "HTTP request sent, awaiting response... 200 OK\n",
            "Length: 6573426 (6.3M) [text/plain]\n",
            "Saving to: ‘test.txt.5’\n",
            "\n",
            "test.txt.5          100%[===================>]   6.27M  --.-KB/s    in 0.04s   \n",
            "\n",
            "2022-02-02 22:44:52 (152 MB/s) - ‘test.txt.5’ saved [6573426/6573426]\n",
            "\n"
          ]
        }
      ],
      "source": [
        "# Get data\n",
        "!wget https://raw.githubusercontent.com/dbamman/nlp22/main/HW2/train.txt\n",
        "!wget https://raw.githubusercontent.com/dbamman/nlp22/main/HW2/dev.txt\n",
        "!wget https://raw.githubusercontent.com/dbamman/nlp22/main/HW2/test.txt"
      ]
    },
    {
      "cell_type": "code",
      "execution_count": 58,
      "metadata": {
        "id": "jq2yq0xpRCUb"
      },
      "outputs": [],
      "source": [
        "trainingFile = \"train.txt\"\n",
        "evaluationFile = \"dev.txt\"\n",
        "testFile = \"test.txt\""
      ]
    },
    {
      "cell_type": "code",
      "execution_count": 59,
      "metadata": {
        "id": "CGiM8qQiJOBU"
      },
      "outputs": [],
      "source": [
        "######################################################################\n",
        "## Do not edit this block of code.\n",
        "## This defines the classification class which\n",
        "## loads the data and sets up the model.\n",
        "######################################################################\n",
        "\n",
        "class Classifier:\n",
        "\n",
        "    def __init__(self, feature_method, L2_regularization_strength=1.0, min_feature_count=1):\n",
        "        self.feature_vocab = {}\n",
        "        self.feature_method = feature_method\n",
        "        self.log_reg = None\n",
        "        self.L2_regularization_strength=L2_regularization_strength\n",
        "        self.min_feature_count=min_feature_count\n",
        "\n",
        "        self.trainX, self.trainY, self.trainOrig = self.process(trainingFile, training=True)\n",
        "        self.devX, self.devY, self.devOrig = self.process(evaluationFile, training=False)\n",
        "        self.testX, _, self.testOrig = self.process(testFile, training=False)\n",
        "\n",
        "    # Read data from file\n",
        "    def load_data(self, filename):\n",
        "        data = []\n",
        "        with open(filename, encoding=\"utf8\") as file:\n",
        "            for line in file:\n",
        "                cols = line.split(\"\\t\")\n",
        "                idd = cols[0]\n",
        "                label = cols[1]\n",
        "                text = cols[2]\n",
        "\n",
        "                data.append((idd, label, text))\n",
        "                \n",
        "        return data\n",
        "\n",
        "    # Featurize entire dataset\n",
        "    def featurize(self, data):\n",
        "        featurized_data = []\n",
        "        for idd, label, text in data:\n",
        "            feats = self.feature_method(text)\n",
        "            featurized_data.append((label, feats))\n",
        "        return featurized_data\n",
        "\n",
        "    # Read dataset and returned featurized representation as sparse matrix + label array\n",
        "    def process(self, dataFile, training = False):\n",
        "        original_data = self.load_data(dataFile)\n",
        "        data = self.featurize(original_data)\n",
        "\n",
        "        if training:\n",
        "            fid = 0\n",
        "            feature_doc_count = Counter()\n",
        "            for label, feats in data:\n",
        "                for feat in feats:\n",
        "                    feature_doc_count[feat]+= 1\n",
        "\n",
        "            for feat in feature_doc_count:\n",
        "                if feature_doc_count[feat] >= self.min_feature_count:\n",
        "                    self.feature_vocab[feat] = fid\n",
        "                    fid += 1\n",
        "\n",
        "        F = len(self.feature_vocab)\n",
        "        D = len(data)\n",
        "        X = sparse.dok_matrix((D, F))\n",
        "        Y = [None]*D\n",
        "        for idx, (label, feats) in enumerate(data):\n",
        "            for feat in feats:\n",
        "                if feat in self.feature_vocab:\n",
        "                    X[idx, self.feature_vocab[feat]] = feats[feat]\n",
        "            Y[idx] = label\n",
        "\n",
        "        return X, Y, original_data\n",
        "\n",
        "    def load_test(self, dataFile):\n",
        "        data = self.load_data(dataFile)\n",
        "        data = self.featurize(data)\n",
        "\n",
        "        F = len(self.feature_vocab)\n",
        "        D = len(data)\n",
        "        X = sparse.dok_matrix((D, F))\n",
        "        Y = [None]*D\n",
        "        for idx, (data_id, feats) in enumerate(data):\n",
        "            for feat in feats:\n",
        "                if feat in self.feature_vocab:\n",
        "                    X[idx, self.feature_vocab[feat]] = feats[feat]\n",
        "            Y[idx] = data_id\n",
        "\n",
        "        return X, Y\n",
        "\n",
        "    # Train model and evaluate on held-out data\n",
        "    def evaluate(self):\n",
        "        (D,F) = self.trainX.shape\n",
        "        self.log_reg = linear_model.LogisticRegression(C = self.L2_regularization_strength, max_iter=1000)\n",
        "        self.log_reg.fit(self.trainX, self.trainY)\n",
        "        training_accuracy = self.log_reg.score(self.trainX, self.trainY)\n",
        "        development_accuracy = self.log_reg.score(self.devX, self.devY)\n",
        "        print(\"Method: %s, Features: %s, Train accuracy: %.3f, Dev accuracy: %.3f\" % (self.feature_method.__name__, F, training_accuracy, development_accuracy))\n",
        "\n",
        "\n",
        "    # Predict labels for new data\n",
        "    def predict(self):\n",
        "        predX = self.log_reg.predict(self.testX)\n",
        "\n",
        "        with open(\"%s_%s\" % (self.feature_method.__name__, \"predictions.csv\"), \"w\", encoding=\"utf8\") as out:\n",
        "            writer=csv.writer(out)\n",
        "            writer.writerow([\"Id\", \"Expected\"])\n",
        "            for idx, data_id in enumerate(self.testX):\n",
        "                writer.writerow([self.testOrig[idx][0], predX[idx]])\n",
        "        out.close()\n",
        "\n",
        "\n",
        "    def printWeights(self, n=10):\n",
        "\n",
        "        reverse_vocab=[None]*len(self.log_reg.coef_[0])\n",
        "        for k in self.feature_vocab:\n",
        "            reverse_vocab[self.feature_vocab[k]]=k\n",
        "\n",
        "        # binary\n",
        "        if len(self.log_reg.classes_) == 2:\n",
        "              weights=self.log_reg.coef_[0]\n",
        "\n",
        "              cat=self.log_reg.classes_[1]\n",
        "              for feature, weight in list(reversed(sorted(zip(reverse_vocab, weights), key = operator.itemgetter(1))))[:n]:\n",
        "                  print(\"%s\\t%.3f\\t%s\" % (cat, weight, feature))\n",
        "              print()\n",
        "\n",
        "              cat=self.log_reg.classes_[0]\n",
        "              for feature, weight in list(sorted(zip(reverse_vocab, weights), key = operator.itemgetter(1)))[:n]:\n",
        "                  print(\"%s\\t%.3f\\t%s\" % (cat, weight, feature))\n",
        "              print()\n",
        "\n",
        "        # multiclass\n",
        "        else:\n",
        "          for i, cat in enumerate(self.log_reg.classes_):\n",
        "\n",
        "              weights=self.log_reg.coef_[i]\n",
        "\n",
        "              for feature, weight in list(reversed(sorted(zip(reverse_vocab, weights), key = operator.itemgetter(1))))[:n]:\n",
        "                  print(\"%s\\t%.3f\\t%s\" % (cat, weight, feature))\n",
        "              print()\n",
        "\n",
        "            "
      ]
    },
    {
      "cell_type": "markdown",
      "metadata": {
        "id": "nDmfkG782kgo"
      },
      "source": [
        "*First*, let's define a classifier based on a really simple dictionary-based feature: if the abstract contains the words \"love\" or \"like\", the CONTAINS_POSITIVE_WORD feature will fire, and if it contains either \"hate\" or \"dislike\", the CONTAINS_NEGATIVE_WORD will fire.  Note how we use `nltk.word_tokenize` to tokenize the text into its discrete words."
      ]
    },
    {
      "cell_type": "code",
      "execution_count": 60,
      "metadata": {
        "id": "xCq1bL3e2jUj"
      },
      "outputs": [],
      "source": [
        "def simple_featurize(text):\n",
        "    feats = {}\n",
        "    words = nltk.word_tokenize(text)\n",
        "\n",
        "    for word in words:\n",
        "        word=word.lower()\n",
        "        if word == \"love\" or word == \"like\":\n",
        "            feats[\"contains_positive_word\"] = 1\n",
        "        if word == \"hate\" or word == \"dislike\":\n",
        "            feats[\"contains_negative_word\"] = 1\n",
        "            \n",
        "    return feats\n"
      ]
    },
    {
      "cell_type": "markdown",
      "metadata": {
        "id": "P3PQdN9r3Ujz"
      },
      "source": [
        "Now let's see how that feature performs on the development data.  Note the `L2_regularization_strength` specifies the strength of the L2 regularizer (values closer to 0 = stronger regularization), and the `min_feature_count` specifies how many data points need to contain a feature for it to be allowable as a feature in the model.  Both are ways to prevent the model from overfitting and achieve higher performance."
      ]
    },
    {
      "cell_type": "code",
      "execution_count": 61,
      "metadata": {
        "colab": {
          "base_uri": "https://localhost:8080/"
        },
        "id": "Jnqjxd6fKPiP",
        "outputId": "92c9bea4-6e0a-4e6c-8395-c167eb9e7b47"
      },
      "outputs": [
        {
          "output_type": "stream",
          "name": "stdout",
          "text": [
            "Method: simple_featurize, Features: 2, Train accuracy: 0.509, Dev accuracy: 0.500\n"
          ]
        }
      ],
      "source": [
        "simple_classifier = Classifier(simple_featurize, L2_regularization_strength=1.0, min_feature_count=1)\n",
        "simple_classifier.evaluate()"
      ]
    },
    {
      "cell_type": "markdown",
      "metadata": {
        "id": "hO4XQzU3PdeU"
      },
      "source": [
        "First, is this accuracy score any good?  Let's calculate the accuracy of a majority class predictor to provide some context.  Again, this determines the most represented (majority) class in the training data, and then predicts every test point to be this class."
      ]
    },
    {
      "cell_type": "code",
      "execution_count": 62,
      "metadata": {
        "colab": {
          "base_uri": "https://localhost:8080/"
        },
        "id": "8t--LfOjPj7T",
        "outputId": "237453da-4664-40cf-aaf7-33769813344a"
      },
      "outputs": [
        {
          "output_type": "stream",
          "name": "stdout",
          "text": [
            "Majority class: pos\tDev accuracy: 0.500\n"
          ]
        }
      ],
      "source": [
        "def majority_class(trainY, devY):\n",
        "    labelCounts=Counter()\n",
        "    for label in trainY:\n",
        "        labelCounts[label]+=1\n",
        "    majority_class=labelCounts.most_common(1)[0][0]\n",
        "    \n",
        "    correct=0.\n",
        "    for label in devY:\n",
        "        if label == majority_class:\n",
        "            correct+=1\n",
        "            \n",
        "    print(\"Majority class: %s\\tDev accuracy: %.3f\" % (majority_class, correct/len(devY)))\n",
        "majority_class(simple_classifier.trainY, simple_classifier.devY)"
      ]
    },
    {
      "cell_type": "markdown",
      "metadata": {
        "id": "wIEkYOWO5ClC"
      },
      "source": [
        "# Your assignment\n",
        "\n",
        "## Deliverable 1\n",
        "\n",
        "Your job in this homework is to implement a binary bag-of-words model (i.e., one that assigns a feature value of 1 to each word type that is present in the text); and to brainstorm three additional distinct classes of features, justify why they might help improve the performance *over a bag of words* for this task, implement them in code, and then assess their independent performance on the development data. \n",
        "\n",
        "Describe your features and report their performance in the table below; implement the features in the specified `feature1`, `feature2`, and `feature3` functions, and execute each respective classifier to show its performance.  \n",
        "\n",
        "|Feature|Why should it work? (50 words each)|Dev set performance|\n",
        "|---|---|---|\n",
        "|Bag of words||\n",
        "|Feature 1||\n",
        "|Feature 2||\n",
        "|Feature 3||\n",
        "\n",
        "Note that it is not required for your features to actually perform well, but your justification for why it *should* perform better than a bag of words should be defensible.  The most creative features (defined as features that few other students use and that are reasonably well-performing) will receive extra credit for this assignment.\n"
      ]
    },
    {
      "cell_type": "code",
      "execution_count": 63,
      "metadata": {
        "id": "vVl1zAREekC3"
      },
      "outputs": [],
      "source": [
        "def bag_of_words(text):\n",
        "    # Here the `feats` dict should contain the features -- the key should be the feature name, \n",
        "    # and the value is the feature value.  See `simple_featurize` for an example.\n",
        "    def remove_special_chars(word):\n",
        "      word_arr = []\n",
        "      for ch in word:\n",
        "        if ch == '-':\n",
        "          word_arr.append(ch)\n",
        "        elif 65 <= ord(ch) <= 90 or 97 <= ord(ch) <= 122:\n",
        "            word_arr.append(ch)\n",
        "      output = ''\n",
        "      return output.join(word_arr)\n",
        "\n",
        "    feats = {}\n",
        "    for word in nltk.word_tokenize(text):\n",
        "      word = remove_special_chars(word.lower())\n",
        "      if word not in feats:\n",
        "        feats[word] = 1\n",
        "                        \n",
        "    return feats"
      ]
    },
    {
      "cell_type": "code",
      "execution_count": 64,
      "metadata": {
        "colab": {
          "base_uri": "https://localhost:8080/"
        },
        "id": "_3AJ5qMBeqmL",
        "outputId": "7430200f-c88b-49e7-df13-055febbb4851"
      },
      "outputs": [
        {
          "output_type": "stream",
          "name": "stdout",
          "text": [
            "Method: bag_of_words, Features: 20326, Train accuracy: 1.000, Dev accuracy: 0.765\n"
          ]
        }
      ],
      "source": [
        "######################################################################\n",
        "## Do not edit this block of code, except for the L2_regularization_strength and min_feature_count parameters\n",
        "######################################################################\n",
        "\n",
        "bow_classifier = Classifier(bag_of_words, L2_regularization_strength=1.0, min_feature_count=1)\n",
        "bow_classifier.evaluate()"
      ]
    },
    {
      "cell_type": "markdown",
      "source": [
        "For feature1, I am looking for positive words from a large list. I found the list here: https://gist.github.com/mkulakowski2/4289437\n",
        "\n",
        "1. I read the file 'positive.txt' and store the words into a list\n",
        "\n",
        "2. I tokenize the text, and I also made my own helper function called \"remove_special_chars\" to remove punctuation, so that \"Terrible!\" -> \"terrible\"\n",
        "\n",
        "3. I parse the tokenized text \"tk_text\" and see if there is any positive term. If there is, I add 1 to the dictionary \"feats\".\n",
        "\n",
        "Additionally, I am trying to handle two edge scenarios: \n",
        "\n",
        "(i) i.e.\"did not like\", or \"did not love\". In this case, the counting of positive terms, shouldn't go up. \n",
        "\n",
        "(ii) \"it was good, but...\", in this scenario, my tokenized text \"tk_text\" will be 'it','was','good','but'; therefore, if after a positive word, there is 'but', it shouldn't count\n",
        "\n",
        "\n",
        "In conclusion, I believe this feature is valid because it searches for positive terms, and these positive terms come from a large list."
      ],
      "metadata": {
        "id": "03Xpmulga1Mj"
      }
    },
    {
      "cell_type": "code",
      "execution_count": 65,
      "metadata": {
        "id": "ocPMYhIt4BX0"
      },
      "outputs": [],
      "source": [
        "\n",
        "\n",
        "# POSITIVE [check if it's preceded by \"not\"]\n",
        "def feature1(text):\n",
        "    # Here the `feats` dict should contain the features -- the key should be the feature name, \n",
        "    # and the value is the feature value.  See `simple_featurize` for an example.\n",
        "\n",
        "    '''\n",
        "    Removes special chars except '-', for hyphens words like: 'eighteenth-century'\n",
        "    '''\n",
        "    def remove_special_chars(word):\n",
        "      word_arr = []\n",
        "      for ch in word:\n",
        "        if ch == '-':\n",
        "          word_arr.append(ch)\n",
        "        elif 65 <= ord(ch) <= 90 or 97 <= ord(ch) <= 122:\n",
        "            word_arr.append(ch)\n",
        "      output = ''\n",
        "      return output.join(word_arr)\n",
        "\n",
        "    '''\n",
        "    Returns a list where each element is the line of the txt file\n",
        "    '''\n",
        "    def file_to_list(filename):\n",
        "      my_file = open(filename, \"r\")\n",
        "      content_list = my_file.readlines()\n",
        "      i=0 \n",
        "      while i < len(content_list):\n",
        "        content_list[i] = content_list[i][:len(content_list[i])-1]\n",
        "        i+=1\n",
        "      return content_list\n",
        "\n",
        "    '''\n",
        "    Returns an ordered list of the top negative/positive terms\n",
        "    '''\n",
        "    def top_terms(text, filedata):\n",
        "      arr = file_to_list(filedata)\n",
        "      tk_text = nltk.word_tokenize(open(text, 'r').read())\n",
        "      top = []\n",
        "      dic_freq = {}\n",
        "      for i in arr:\n",
        "        dic_freq[i] = 0\n",
        "      # removing special chars from text\n",
        "      for term in tk_text:\n",
        "        term = remove_special_chars(term.lower())\n",
        "      # building the dictionary frequency\n",
        "      for word in tk_text:\n",
        "        if word in dic_freq:\n",
        "          dic_freq[word] +=1\n",
        "      # sorting dictionary\n",
        "      dic_freq = dict(sorted(dic_freq.items(), key=lambda item: item[1], reverse=True))\n",
        "      # appending the top values\n",
        "      for k,v in dic_freq.items():\n",
        "        top.append(k)\n",
        "      return top\n",
        "      \n",
        "    feats = {'has_positive': 0}\n",
        "\n",
        "    positive_arr = top_terms('train.txt', 'positive.txt')\n",
        "    \n",
        "    tk_text = nltk.word_tokenize(text)\n",
        "    for word in tk_text:\n",
        "      word = remove_special_chars(word.lower())\n",
        "    \n",
        "    positive = False\n",
        "    i=0\n",
        "    while i < len(tk_text):\n",
        "      if tk_text[i] in positive_arr:\n",
        "        positive = True\n",
        "      else:\n",
        "        for term in positive_arr:\n",
        "          if tk_text[i] in term or term in tk_text[i]:\n",
        "            positive = True\n",
        "\n",
        "      if positive:\n",
        "        if tk_text[i-1] != 'not':\n",
        "          if i == len(tk_text) - 1:\n",
        "            feats['has_positive'] += 1\n",
        "          else:\n",
        "            if tk_text[i+1] != 'but' or tk_text[i+1] != 'except':\n",
        "              feats['has_positive'] += 1\n",
        "      i+=1\n",
        "\n",
        "    return feats\n"
      ]
    },
    {
      "cell_type": "code",
      "execution_count": 66,
      "metadata": {
        "colab": {
          "base_uri": "https://localhost:8080/"
        },
        "id": "-MAwRwbQ7lVw",
        "outputId": "ee2dc1a7-2ce2-4463-e6f3-1e9fb028e29d"
      },
      "outputs": [
        {
          "output_type": "stream",
          "name": "stdout",
          "text": [
            "Method: feature1, Features: 1, Train accuracy: 0.498, Dev accuracy: 0.501\n"
          ]
        }
      ],
      "source": [
        "######################################################################\n",
        "## Do not edit this block of code, except for the L2_regularization_strength and min_feature_count parameters\n",
        "######################################################################\n",
        "\n",
        "classifier1 = Classifier(feature1, L2_regularization_strength=1.0, min_feature_count=1)\n",
        "classifier1.evaluate()"
      ]
    },
    {
      "cell_type": "markdown",
      "source": [
        "For feature2, I am looking for negative terms. I applied the same logic as in feature1. \n",
        "I found the list here: https://gist.github.com/mkulakowski2/4289441\n",
        "\n",
        "Similarly to feature1, I believe feature2 is valid too because it searches for negative terms, and these negative terms come from a large list. "
      ],
      "metadata": {
        "id": "746dRQhKduF1"
      }
    },
    {
      "cell_type": "code",
      "execution_count": 67,
      "metadata": {
        "id": "LNlQyjEB4Bwt"
      },
      "outputs": [],
      "source": [
        "# NEGATIVE\n",
        "def feature2(text):\n",
        "    # Here the `feats` dict should contain the features -- the key should be the feature name, \n",
        "    # and the value is the feature value.  See `simple_featurize` for an example.\n",
        "    \n",
        "    '''\n",
        "    Removes special chars except '-', for hyphens words like: 'eighteenth-century'\n",
        "    '''\n",
        "    def remove_special_chars(word):\n",
        "      word_arr = []\n",
        "      for ch in word:\n",
        "        if ch == '-':\n",
        "          word_arr.append(ch)\n",
        "        elif 65 <= ord(ch) <= 90 or 97 <= ord(ch) <= 122:\n",
        "            word_arr.append(ch)\n",
        "      output = ''\n",
        "      return output.join(word_arr)\n",
        "\n",
        "    '''\n",
        "    Returns a list where each element is the line of the txt file\n",
        "    '''\n",
        "    def file_to_list(filename):\n",
        "      my_file = open(filename, \"r\")\n",
        "      content_list = my_file.readlines()\n",
        "      i=0 \n",
        "      while i < len(content_list):\n",
        "        content_list[i] = content_list[i][:len(content_list[i])-1]\n",
        "        i+=1\n",
        "      return content_list\n",
        "\n",
        "    '''\n",
        "    Returns an ordered list of the top negative/positive terms\n",
        "    '''\n",
        "    def top_terms(text, filedata):\n",
        "      arr = file_to_list(filedata)\n",
        "      tk_text = nltk.word_tokenize(open(text, 'r').read())\n",
        "      top = []\n",
        "      dic_freq = {}\n",
        "      for i in arr:\n",
        "        dic_freq[i] = 0\n",
        "      # removing special chars from text\n",
        "      for term in tk_text:\n",
        "        term = remove_special_chars(term.lower())\n",
        "      # building the dictionary frequency\n",
        "      for word in tk_text:\n",
        "        if word in dic_freq:\n",
        "          dic_freq[word] +=1\n",
        "      # sorting dictionary\n",
        "      dic_freq = dict(sorted(dic_freq.items(), key=lambda item: item[1], reverse=True))\n",
        "      # appending the top values\n",
        "      for k,v in dic_freq.items():\n",
        "        top.append(k)\n",
        "      return top\n",
        "\n",
        "    feats = {'has_negative': 0}\n",
        "\n",
        "    negative_arr = top_terms('train.txt', 'negative.txt')\n",
        "\n",
        "    tk_text = nltk.word_tokenize(text)\n",
        "    for word in tk_text:\n",
        "      word = remove_special_chars(word.lower())\n",
        "\n",
        "    negative = False\n",
        "    i=0\n",
        "    while i < len(tk_text):\n",
        "      if tk_text[i] in negative_arr:\n",
        "        negative = True\n",
        "      else:\n",
        "        for term in negative_arr:\n",
        "          if tk_text[i] in term or term in tk_text[i]:\n",
        "            negative = True\n",
        "      if negative:\n",
        "        if tk_text[i-1] != 'not':\n",
        "          if i == len(tk_text) - 1:\n",
        "            feats['has_negative'] += 1\n",
        "          else:\n",
        "            if tk_text[i+1] != 'but' or tk_text[i+1] != 'except':\n",
        "              feats['has_negative'] += 1\n",
        "      i+=1\n",
        "\n",
        "    return feats"
      ]
    },
    {
      "cell_type": "code",
      "execution_count": 69,
      "metadata": {
        "colab": {
          "base_uri": "https://localhost:8080/"
        },
        "id": "JgpuykF67oWZ",
        "outputId": "c8fbfc5d-ac81-47d2-c742-7506403df51a"
      },
      "outputs": [
        {
          "output_type": "stream",
          "name": "stdout",
          "text": [
            "Method: feature2, Features: 1, Train accuracy: 0.497, Dev accuracy: 0.499\n"
          ]
        }
      ],
      "source": [
        "######################################################################\n",
        "## Do not edit this block of code, except for the L2_regularization_strength and min_feature_count parameters\n",
        "######################################################################\n",
        "\n",
        "classifier2 = Classifier(feature2, L2_regularization_strength=1.0, min_feature_count=1)\n",
        "classifier2.evaluate()"
      ]
    },
    {
      "cell_type": "markdown",
      "source": [
        "For feature3, the main difference is that I'm first running my helper function called \"top_terms\" to collect the top negative terms. You can find \"top_terms\" along with my other helper functions in the cell that is before \"bag_of_words\"\n",
        "\n",
        "\"top_terms()\" works this way:\n",
        "\n",
        "1. For every negative/positive term, it initializes a frequency dictionary like this {term: 0, term2: 0, etc...}  \n",
        "2. For every word in \"text\", if it matches any key in the dictionary, its count will increase\n",
        "3. I'm sorting the dictionary, and returning the top nth terms as a list (by default the function returns the top 20).\n",
        "\n",
        "The rest of the logic is identical to features1-2. Overall, I believe this is a valid feature because rather than simply taking a large list of positive/negative terms, I'm first seeing which ones appear more frequently in the text, and from that, I create my dataset from where I take my positive/negative words that I compare with each review."
      ],
      "metadata": {
        "id": "iAo7bHO8oqvi"
      }
    },
    {
      "cell_type": "code",
      "execution_count": 70,
      "metadata": {
        "id": "FmJKucgn4CEg"
      },
      "outputs": [],
      "source": [
        "def feature3(text):\n",
        "  # Here the `feats` dict should contain the features -- the key should be the feature name, \n",
        "  # and the value is the feature value.  See `simple_featurize` for an example.\n",
        "  '''\n",
        "  creates the sub-array for the n-gram, \"st\" represents the text (or review), \"l\" the length, by defaul is 4\n",
        "  '''\n",
        "  def n_gram(st, l=4):\n",
        "    arr = nltk.word_tokenize(st)\n",
        "    grams = []\n",
        "    i=0\n",
        "    while i < len(arr):\n",
        "      try:\n",
        "        grams.append(arr[i:i+l])\n",
        "      except:\n",
        "        grams.append(arr[i:])\n",
        "      i+= l - 1\n",
        "    return grams\n",
        "\n",
        "  '''\n",
        "  Removes special chars except '-', for hyphens words like: 'eighteenth-century'\n",
        "  '''\n",
        "  def remove_special_chars(word):\n",
        "    word_arr = []\n",
        "    for ch in word:\n",
        "      if ch == '-':\n",
        "        word_arr.append(ch)\n",
        "      elif 65 <= ord(ch) <= 90 or 97 <= ord(ch) <= 122:\n",
        "          word_arr.append(ch)\n",
        "    output = ''\n",
        "    return output.join(word_arr)\n",
        "  '''\n",
        "  Checks if a term is in the array, or if the term is part of a word in the array\n",
        "  '''\n",
        "  def in_array(term, array):\n",
        "    if term in array:\n",
        "      return True\n",
        "    else:\n",
        "      for word in array:\n",
        "        if term in word or word in term:\n",
        "          return True\n",
        "    return False\n",
        "\n",
        "  '''\n",
        "  Returns a list where each element is the line of the txt file\n",
        "  '''\n",
        "  def file_to_list(filename):\n",
        "    my_file = open(filename, \"r\")\n",
        "    content_list = my_file.readlines()\n",
        "    i=0 \n",
        "    while i < len(content_list):\n",
        "      content_list[i] = content_list[i][:len(content_list[i])-1]\n",
        "      i+=1\n",
        "    return content_list\n",
        "\n",
        "  '''\n",
        "  Returns an ordered list of the top negative/positive terms\n",
        "  '''\n",
        "  def top_terms(text, filedata):\n",
        "    arr = file_to_list(filedata)\n",
        "    tk_text = nltk.word_tokenize(open(text, 'r').read())\n",
        "    top = []\n",
        "    dic_freq = {}\n",
        "    for i in arr:\n",
        "      dic_freq[i] = 0\n",
        "    # removing special chars from text\n",
        "    for term in tk_text:\n",
        "      term = remove_special_chars(term.lower())\n",
        "    # building the dictionary frequency\n",
        "    for word in tk_text:\n",
        "      if word in dic_freq:\n",
        "        dic_freq[word] +=1\n",
        "    # sorting dictionary\n",
        "    dic_freq = dict(sorted(dic_freq.items(), key=lambda item: item[1], reverse=True))\n",
        "    # appending the top values\n",
        "    for k,v in dic_freq.items():\n",
        "      top.append(k)\n",
        "    return top\n",
        "\n",
        "  feats = {'score': 0}\n",
        "  array = n_gram(text)\n",
        "  totscore = 0\n",
        "  partial_score = 0\n",
        "\n",
        "  positive_arr = top_terms('train.txt', 'positive.txt')\n",
        "  negative_arr = top_terms('train.txt', 'negative.txt')\n",
        "\n",
        "  for gram in array:\n",
        "    partial_score = 0\n",
        "    really_counter = 0\n",
        "\n",
        "    for word in gram:\n",
        "      if word == 'really':\n",
        "        really_counter +=1\n",
        "\n",
        "      if in_array(word, positive_arr): \n",
        "        partial_score +=1\n",
        "      elif in_array(word, negative_arr):\n",
        "        partial_score -=1\n",
        "\n",
        "    if partial_score < 0:\n",
        "      partial_score -= really_counter\n",
        "    elif partial_score > 0:\n",
        "      partial_score += really_counter\n",
        "    totscore += partial_score\n",
        "\n",
        "  feats['score'] = totscore\n",
        "  return feats"
      ]
    },
    {
      "cell_type": "code",
      "execution_count": 71,
      "metadata": {
        "colab": {
          "base_uri": "https://localhost:8080/"
        },
        "id": "g_f--utb7q4l",
        "outputId": "4e368f4d-7c1f-4ed5-d828-13c595db0e5d"
      },
      "outputs": [
        {
          "output_type": "stream",
          "name": "stdout",
          "text": [
            "Method: feature3, Features: 1, Train accuracy: 0.532, Dev accuracy: 0.541\n"
          ]
        }
      ],
      "source": [
        "######################################################################\n",
        "## Do not edit this block of code, except for the L2_regularization_strength and min_feature_count parameters\n",
        "######################################################################\n",
        "\n",
        "classifier3 = Classifier(feature3, L2_regularization_strength=1.0, min_feature_count=1)\n",
        "classifier3.evaluate()"
      ]
    },
    {
      "cell_type": "markdown",
      "metadata": {
        "id": "XEpK5LyMgv5c"
      },
      "source": [
        "Next, let's combine any or all the features you have developed into one big model and make predictions on the test data."
      ]
    },
    {
      "cell_type": "code",
      "execution_count": 72,
      "metadata": {
        "id": "jxKmEqI5JY71"
      },
      "outputs": [],
      "source": [
        "def combiner_function(text):\n",
        "\n",
        "    # Here the `all_feats` dict should contain the features -- the key should be the feature name, \n",
        "    # and the value is the feature value.  See `simple_featurize` for an example.\n",
        "    \n",
        "  all_feats={}\n",
        "  for feature in [bag_of_words, feature1, feature2, feature3]:\n",
        "    all_feats.update(feature(text))\n",
        "  return all_feats"
      ]
    },
    {
      "cell_type": "code",
      "execution_count": 73,
      "metadata": {
        "colab": {
          "base_uri": "https://localhost:8080/"
        },
        "id": "D-tRUFTIdAqT",
        "outputId": "30ba4636-378c-4647-da6d-4814c03d8688"
      },
      "outputs": [
        {
          "output_type": "stream",
          "name": "stdout",
          "text": [
            "Method: combiner_function, Features: 20328, Train accuracy: 1.000, Dev accuracy: 0.770\n"
          ]
        }
      ],
      "source": [
        "######################################################################\n",
        "## Do not edit this block of code, except for the L2_regularization_strength and min_feature_count parameters\n",
        "######################################################################\n",
        "\n",
        "big_classifier = Classifier(combiner_function, L2_regularization_strength=1.0, min_feature_count=1)\n",
        "big_classifier.evaluate()\n",
        "\n",
        "#generate .csv file with prediction output on test data\n",
        "big_classifier.predict()"
      ]
    },
    {
      "cell_type": "markdown",
      "metadata": {
        "id": "Dg2J1BLgatMP"
      },
      "source": [
        " ## Deliverable 2\n",
        "\n",
        "This code will generate a file named `combiner_function_predictions.csv`; download this file (using e.g. the file manager on the left panel in Colab) and submit this to GradeScope along with your notebook; the 5 systems with the highest performance (revealed after the submission deadline) will receive extra credit for this assignment."
      ]
    },
    {
      "cell_type": "markdown",
      "metadata": {
        "id": "7lgyoJm09pqe"
      },
      "source": [
        "## Interrogating classifiers\n",
        "\n",
        "Below you will find several ways in which you can interrogate your model to get ideas on ways to improve its performance.  **Note that nothing below this line requires any work on your part; treat these as useful tools for understanding what works and what doesn't.**\n",
        "\n",
        "1. First, let's look at the confusion matrix of its predictions (where we can compare the true labels with the predicted labels).  What kinds of mistakes is it making?  (While this is mainly helpful in the context of multiclass classification, we can still see if there's a bias toward predicting a specific class in the binary setting as well). "
      ]
    },
    {
      "cell_type": "code",
      "execution_count": 30,
      "metadata": {
        "colab": {
          "base_uri": "https://localhost:8080/",
          "height": 628
        },
        "id": "7ulxd1TosIMV",
        "outputId": "29ffe75a-be19-444e-d924-992ebc0ee7b5"
      },
      "outputs": [
        {
          "output_type": "stream",
          "name": "stderr",
          "text": [
            "/usr/local/lib/python3.7/dist-packages/sklearn/utils/deprecation.py:87: FutureWarning: Function plot_confusion_matrix is deprecated; Function `plot_confusion_matrix` is deprecated in 1.0 and will be removed in 1.2. Use one of the class methods: ConfusionMatrixDisplay.from_predictions or ConfusionMatrixDisplay.from_estimator.\n",
            "  warnings.warn(msg, category=FutureWarning)\n"
          ]
        },
        {
          "output_type": "display_data",
          "data": {
            "image/png": "[encoded data removed]",
            "text/plain": [
              "<Figure size 720x720 with 2 Axes>"
            ]
          },
          "metadata": {
            "needs_background": "light"
          }
        }
      ],
      "source": [
        "def print_confusion(classifier):\n",
        "    fig, ax = plt.subplots(figsize=(10,10))\n",
        "    plot_confusion_matrix(classifier.log_reg, classifier.devX, classifier.devY, ax=ax, xticks_rotation=\"vertical\", values_format=\"d\")\n",
        "    plt.show()\n",
        "\n",
        "print_confusion(big_classifier)"
      ]
    },
    {
      "cell_type": "markdown",
      "metadata": {
        "id": "zPhH4flIuEbx"
      },
      "source": [
        "2. Next, let's look at the features that are most defining for each of the classes (ranked by how strong their corresponding coefficient is).  Do the features you are defining help in the ways you think they should?  Do sets of successful features suggests others, or complementary features that may provide a different view on the data?"
      ]
    },
    {
      "cell_type": "code",
      "execution_count": 31,
      "metadata": {
        "colab": {
          "base_uri": "https://localhost:8080/"
        },
        "id": "IAyGuXIi9pqe",
        "outputId": "45437daf-6bde-44ff-ee41-56c6a6b73896"
      },
      "outputs": [
        {
          "output_type": "stream",
          "name": "stdout",
          "text": [
            "pos\t0.757\tvery\n",
            "pos\t0.614\texcellent\n",
            "pos\t0.612\tgreat\n",
            "pos\t0.577\tenjoyed\n",
            "pos\t0.554\tamazing\n",
            "pos\t0.540\tsimple\n",
            "pos\t0.534\tsaw\n",
            "pos\t0.523\tincredible\n",
            "pos\t0.513\tnew\n",
            "pos\t0.497\tdifferent\n",
            "pos\t0.493\tgets\n",
            "pos\t0.490\ttop\n",
            "pos\t0.485\tman\n",
            "pos\t0.465\tseen\n",
            "pos\t0.456\tthought\n",
            "pos\t0.455\tperfect\n",
            "pos\t0.453\tus\n",
            "pos\t0.444\tperformance\n",
            "pos\t0.440\thim\n",
            "pos\t0.432\tmy\n",
            "pos\t0.431\ttakes\n",
            "pos\t0.428\tyou\n",
            "pos\t0.428\trelationship\n",
            "pos\t0.427\tviolence\n",
            "pos\t0.427\tseries\n",
            "\n",
            "neg\t-0.786\tworst\n",
            "neg\t-0.727\twould\n",
            "neg\t-0.720\tacting\n",
            "neg\t-0.670\tidea\n",
            "neg\t-0.655\twatching\n",
            "neg\t-0.652\thas_negative\n",
            "neg\t-0.548\tmoney\n",
            "neg\t-0.546\tactors\n",
            "neg\t-0.542\tscript\n",
            "neg\t-0.534\tnothing\n",
            "neg\t-0.525\twere\n",
            "neg\t-0.520\tsilly\n",
            "neg\t-0.518\tboring\n",
            "neg\t-0.514\tleast\n",
            "neg\t-0.504\tthere\n",
            "neg\t-0.482\teven\n",
            "neg\t-0.471\tinstead\n",
            "neg\t-0.466\twork\n",
            "neg\t-0.454\tmaybe\n",
            "neg\t-0.452\twaste\n",
            "neg\t-0.446\tenough\n",
            "neg\t-0.442\tcould\n",
            "neg\t-0.436\tsomething\n",
            "neg\t-0.430\tcan\n",
            "neg\t-0.426\tfails\n",
            "\n"
          ]
        }
      ],
      "source": [
        "big_classifier.printWeights(n=25)"
      ]
    },
    {
      "cell_type": "markdown",
      "metadata": {
        "id": "e80DUsSXu7h9"
      },
      "source": [
        "3. Next, let's look at the individual data points that are most mistaken. Does it suggest any features you might create to disentangle them?"
      ]
    },
    {
      "cell_type": "code",
      "execution_count": 32,
      "metadata": {
        "id": "I4uTzwV99pqe"
      },
      "outputs": [],
      "source": [
        "def analyze(classifier):\n",
        "    \n",
        "    probs=classifier.log_reg.predict_proba(classifier.devX)\n",
        "    predicts=classifier.log_reg.predict(classifier.devX)\n",
        "\n",
        "    classes={}\n",
        "    for idx, lab in enumerate(classifier.log_reg.classes_):\n",
        "        classes[lab]=idx\n",
        "\n",
        "    mistakes={}\n",
        "    for i in range(len(probs)):\n",
        "        if predicts[i] != classifier.devY[i]:\n",
        "            predicted_lab_idx=classes[predicts[i]]\n",
        "            mistakes[i]=probs[i][predicted_lab_idx]\n",
        "\n",
        "    frame=[]\n",
        "    sorted_x = sorted(mistakes.items(), key=operator.itemgetter(1), reverse=True)\n",
        "    for k, v in sorted_x:\n",
        "        idd=classifier.devOrig[k][0]\n",
        "        text=classifier.devOrig[k][2]\n",
        "        frame.append([idd, v, classifier.devY[k], predicts[k], text])\n",
        "\n",
        "    df=pd.DataFrame(frame, columns=[\"id\", \"P(predicted class confidence)\", \"Human label\", \"Prediction\", \"Text\"])\n",
        "\n",
        "    with option_context('display.max_colwidth', 400):\n",
        "        display(df.head(n=20))\n"
      ]
    },
    {
      "cell_type": "code",
      "execution_count": 33,
      "metadata": {
        "colab": {
          "base_uri": "https://localhost:8080/",
          "height": 1000
        },
        "id": "UXmRhSuzxaJi",
        "outputId": "ff2f31c8-b62e-4a28-e379-7e8129e235f8"
      },
      "outputs": [
        {
          "output_type": "display_data",
          "data": {
            "text/html": [
              "\n",
              "  <div id=\"df-f41dfdb3-5edc-4589-be72-aacb403d80cd\">\n",
              "    <div class=\"colab-df-container\">\n",
              "      <div>\n",
              "<style scoped>\n",
              "    .dataframe tbody tr th:only-of-type {\n",
              "        vertical-align: middle;\n",
              "    }\n",
              "\n",
              "    .dataframe tbody tr th {\n",
              "        vertical-align: top;\n",
              "    }\n",
              "\n",
              "    .dataframe thead th {\n",
              "        text-align: right;\n",
              "    }\n",
              "</style>\n",
              "<table border=\"1\" class=\"dataframe\">\n",
              "  <thead>\n",
              "    <tr style=\"text-align: right;\">\n",
              "      <th></th>\n",
              "      <th>id</th>\n",
              "      <th>P(predicted class confidence)</th>\n",
              "      <th>Human label</th>\n",
              "      <th>Prediction</th>\n",
              "      <th>Text</th>\n",
              "    </tr>\n",
              "  </thead>\n",
              "  <tbody>\n",
              "    <tr>\n",
              "      <th>0</th>\n",
              "      <td>1436</td>\n",
              "      <td>0.999671</td>\n",
              "      <td>pos</td>\n",
              "      <td>neg</td>\n",
              "      <td>I have never seen such a movie before. I was on the edge of my seat and constantly laughing throughout the entire movie. I never thought such horrible acting existed it was all just too funny. The story behind the movie is decent but the movies scenes fail to portray them. I have never seen such a stupid movie in my life which is why it I think its worth watching. I give this movie 10 out of 1...</td>\n",
              "    </tr>\n",
              "    <tr>\n",
              "      <th>1</th>\n",
              "      <td>1337</td>\n",
              "      <td>0.999372</td>\n",
              "      <td>pos</td>\n",
              "      <td>neg</td>\n",
              "      <td>FULL OF SPOILERS.This is a pretty fast and enjoyable crime thriller based on Ira Levin's play about two gay playwrights (Caine and Reeve) that plot the murder of one's rich wife (Cannon) to get the property and the insurance. The plot succeeds but Christopher Reeve as the younger and less established of the two writers decides to make a play out of the actual murder -- with only slight changes...</td>\n",
              "    </tr>\n",
              "    <tr>\n",
              "      <th>2</th>\n",
              "      <td>1178</td>\n",
              "      <td>0.998847</td>\n",
              "      <td>pos</td>\n",
              "      <td>neg</td>\n",
              "      <td>While I do not think this was a perfect 10, I do agree it was way above a 6 which is what it's rated here. No, Brokedown Palace was not perfect and yes it's plot has been done many times before. That doesn't mean it shouldn't be done again if it is done well and I think this movie had some strong moments. The acting of Claire Danes, as already mentioned many times, was flawless as was Kate Bec...</td>\n",
              "    </tr>\n",
              "    <tr>\n",
              "      <th>3</th>\n",
              "      <td>1659</td>\n",
              "      <td>0.998243</td>\n",
              "      <td>pos</td>\n",
              "      <td>neg</td>\n",
              "      <td>Child 'Sexploitation' is one of the most serious issues facing our world today and I feared that any film on the topic would jump straight to scenes of an explicitly sexual nature in order to shock and disturb the audience. After having seen both 'Trade' and 'Holly', one film moved me to want to actually see a change in international laws. The other felt like a poor attempt at making me cry fo...</td>\n",
              "    </tr>\n",
              "    <tr>\n",
              "      <th>4</th>\n",
              "      <td>1677</td>\n",
              "      <td>0.998146</td>\n",
              "      <td>neg</td>\n",
              "      <td>pos</td>\n",
              "      <td>Hello. this is my first review for any movie i have seen. i went through the trouble of doing this to tell everyone that this is quite literally, the most disgusting movie i have ever seen. I feel like the movie was porely made, which i will give some understanding due to budget constraints on making it. I felt like i was watching a very bad remake of the movie saw. Which i can agree, saw as w...</td>\n",
              "    </tr>\n",
              "    <tr>\n",
              "      <th>5</th>\n",
              "      <td>1608</td>\n",
              "      <td>0.997534</td>\n",
              "      <td>neg</td>\n",
              "      <td>pos</td>\n",
              "      <td>As good an advert for republicanism as you're ever likely to see,\"Mayerling\"is an everyday story of royal folk in late nineteenth century Austria.Set during one of Europe's seemingly incessant internal turmoils it concerns itself with the Emperor Franz Joseph (Mr James Mason),his rebellious son,the Crown Prince Rudolf (Mr Omar Sharif)the Empress(Miss Ava Gardner) and various mistresses,secret ...</td>\n",
              "    </tr>\n",
              "    <tr>\n",
              "      <th>6</th>\n",
              "      <td>1004</td>\n",
              "      <td>0.997367</td>\n",
              "      <td>neg</td>\n",
              "      <td>pos</td>\n",
              "      <td>Certainly NOMAD has some of the best horse riding scenes, swordplay, and scrumptious landscape cinematography you'll likely see, but this isn't what makes a film good. It helps but the story has to shine through on top of these things. And that's where Nomad wanders.The story is stilted, giving it a sense that it was thrown together simply to make a \"cool\" movie that \"looks\" great. Not to ment...</td>\n",
              "    </tr>\n",
              "    <tr>\n",
              "      <th>7</th>\n",
              "      <td>1247</td>\n",
              "      <td>0.996226</td>\n",
              "      <td>neg</td>\n",
              "      <td>pos</td>\n",
              "      <td>Let's start by the simple lines. From the viewer's side, there a couple of good \"director details\", some points of view at the movie scenes that are nice. The special effects are good enough, a good acting/good scenery also. But the story is way too simple. It shows how a elite Army bomb squad unit lives, acts and sometimes dies. It shows the drama of living in war. In my movie experience as a...</td>\n",
              "    </tr>\n",
              "    <tr>\n",
              "      <th>8</th>\n",
              "      <td>1456</td>\n",
              "      <td>0.995417</td>\n",
              "      <td>pos</td>\n",
              "      <td>neg</td>\n",
              "      <td>Hardly a masterpiece. Not so well written. Beautiful cinematography i think not. This movie wasn't too terrible but it wasn't that much better than average. The main story dealing with highly immoral teens should have focused more on the forbidden romance and why this was... should have really gotten into it instead of scraping the surface with basically \"because mom says we can't.\" Some parts...</td>\n",
              "    </tr>\n",
              "    <tr>\n",
              "      <th>9</th>\n",
              "      <td>1541</td>\n",
              "      <td>0.993675</td>\n",
              "      <td>pos</td>\n",
              "      <td>neg</td>\n",
              "      <td>Joan Fontaine here is entirely convincing as an amoral beauty who is entirely incapable of feeling love for anyone but herself. Her husband (Richard Ney) has lost all his money through a combination of his foolhardiness and her extravagance, and they are reduced to living in a tiny room, with little or no prospects. They continue to put on the most amazing clothes and go out and socialize as i...</td>\n",
              "    </tr>\n",
              "    <tr>\n",
              "      <th>10</th>\n",
              "      <td>1787</td>\n",
              "      <td>0.991654</td>\n",
              "      <td>pos</td>\n",
              "      <td>neg</td>\n",
              "      <td>My roommate had bought this documentary and invited me to watch it with her. She's from China and only heard so much about 9/11 and wanted to know the cold hard truth and she wanted me to tell her more after the documentary. I felt awful watching this documentary, it was like reliving the nightmare and it still brings tears to my eyes.But I'm extremely grateful that I watched this documentary,...</td>\n",
              "    </tr>\n",
              "    <tr>\n",
              "      <th>11</th>\n",
              "      <td>1916</td>\n",
              "      <td>0.991335</td>\n",
              "      <td>neg</td>\n",
              "      <td>pos</td>\n",
              "      <td>Having read the other comments on this film, I would like to share my own view that this is one tough movie to see unless you are a total Brooksophile. I am not.When looked at by a purely objective observer, the film is an unbalanced narrative that presents us with more undistilled neuroses than are capable of being absorbed in one sitting. It is quite difficult to watch. The Brooks character ...</td>\n",
              "    </tr>\n",
              "    <tr>\n",
              "      <th>12</th>\n",
              "      <td>1783</td>\n",
              "      <td>0.990157</td>\n",
              "      <td>pos</td>\n",
              "      <td>neg</td>\n",
              "      <td>Ira Levin's Deathtrap is one of those mystery films in the tradition of Sleuth that would be very easy to spoil given any real examination of the plot of the film. Therefore I will be brief in saying it concerns a play, one man who is a famous mystery playwright, another man who is a promising writer, the playwright's wife who is much younger and sexier than the role should have been, and one ...</td>\n",
              "    </tr>\n",
              "    <tr>\n",
              "      <th>13</th>\n",
              "      <td>1833</td>\n",
              "      <td>0.989944</td>\n",
              "      <td>neg</td>\n",
              "      <td>pos</td>\n",
              "      <td>This was yet another big screen outing for a US TV show from the sixties It is amusing enough but was very much to formula. Intelligent Martian lands on Earth and meets the not too bright humans, in his view.The usual wackiness ensues with the human, Bridges, eventually bonds with him and helps him to get home. Along the way he also gets the girl, Hannah.This is a nice outing for some pleasant...</td>\n",
              "    </tr>\n",
              "    <tr>\n",
              "      <th>14</th>\n",
              "      <td>1043</td>\n",
              "      <td>0.989804</td>\n",
              "      <td>pos</td>\n",
              "      <td>neg</td>\n",
              "      <td>Some bad reviews here for this and I understand why but treat it as a low budget serial killer film and you might get more from it than most.I thought that this worked in a way because afterwards I felt dirty and wanted to take a long shower so that is some degree of success isn't it?I would say there is just the right level of sleaze here to get under your skin although the acting is maybe a ...</td>\n",
              "    </tr>\n",
              "    <tr>\n",
              "      <th>15</th>\n",
              "      <td>1464</td>\n",
              "      <td>0.988130</td>\n",
              "      <td>neg</td>\n",
              "      <td>pos</td>\n",
              "      <td>I really wanted to like this film, but so much of it is stolen/borrowed from other work -- some of the borrowing is painfully blatant. The New York Times' review pointed out that their singing frog is awfully reminiscent of the one in the famous Warner Brothers' cartoon ('Hello my baby, hello my darlin', hello my ragtime gal...'). But I challenge anyone to watch the Fox/Blue Sky animated featu...</td>\n",
              "    </tr>\n",
              "    <tr>\n",
              "      <th>16</th>\n",
              "      <td>1784</td>\n",
              "      <td>0.987951</td>\n",
              "      <td>pos</td>\n",
              "      <td>neg</td>\n",
              "      <td>The only complaint I have about this adaptation is that it is sexed-up. Things that were only hinted at in the novel are shown on-screen for some weird reason. Did they think the audience would be too stupid to understand if they were not shown everything out-right? Other than that, this is very good-quality. All the actors do marvelous jobs bringing their characters to life. For the shallow w...</td>\n",
              "    </tr>\n",
              "    <tr>\n",
              "      <th>17</th>\n",
              "      <td>1218</td>\n",
              "      <td>0.987684</td>\n",
              "      <td>neg</td>\n",
              "      <td>pos</td>\n",
              "      <td>This early B entry into the patriotic category slapped a gorgeous young Gene Tierney on the ads and posters, but you have to wait a good time before you glimpse her, riding in a Hollywoodized camel train. Previously, we've set up George Sanders and Bruce Cabot in the desert as guys who barely get along, but must rally in the face of attack. I've seen Sanders as so many enjoyable cads that it w...</td>\n",
              "    </tr>\n",
              "    <tr>\n",
              "      <th>18</th>\n",
              "      <td>1361</td>\n",
              "      <td>0.987314</td>\n",
              "      <td>neg</td>\n",
              "      <td>pos</td>\n",
              "      <td>Bridges of madison county is a better made version of this story. I felt the ending of this movie was not handled sensitively as they did in the original English movie. This movie is very indianised, if you are a very sensitive person who cries in a movie when hero dies in the end you'll love this movie, On the other hand if you are a fighter in life and think crying is for wimps you may not l...</td>\n",
              "    </tr>\n",
              "    <tr>\n",
              "      <th>19</th>\n",
              "      <td>1493</td>\n",
              "      <td>0.981280</td>\n",
              "      <td>neg</td>\n",
              "      <td>pos</td>\n",
              "      <td>Yes, this was pure unbelievable condescending babble. We know that the French often have a skewed idea of the USA, it's puritanism and views towards sex. As an American (Hoosier) who lives in France, I have ample opportunity to observe these attitudes. And while some of these preconceived notions may be true, NOT ONE ELEMENT of the midwestern town portrayed in this film rang real. A man who ha...</td>\n",
              "    </tr>\n",
              "  </tbody>\n",
              "</table>\n",
              "</div>\n",
              "      <button class=\"colab-df-convert\" onclick=\"convertToInteractive('df-f41dfdb3-5edc-4589-be72-aacb403d80cd')\"\n",
              "              title=\"Convert this dataframe to an interactive table.\"\n",
              "              style=\"display:none;\">\n",
              "        \n",
              "  <svg xmlns=\"http://www.w3.org/2000/svg\" height=\"24px\"viewBox=\"0 0 24 24\"\n",
              "       width=\"24px\">\n",
              "    <path d=\"M0 0h24v24H0V0z\" fill=\"none\"/>\n",
              "    <path d=\"M18.56 5.44l.94 2.06.94-2.06 2.06-.94-2.06-.94-.94-2.06-.94 2.06-2.06.94zm-11 1L8.5 8.5l.94-2.06 2.06-.94-2.06-.94L8.5 2.5l-.94 2.06-2.06.94zm10 10l.94 2.06.94-2.06 2.06-.94-2.06-.94-.94-2.06-.94 2.06-2.06.94z\"/><path d=\"M17.41 7.96l-1.37-1.37c-.4-.4-.92-.59-1.43-.59-.52 0-1.04.2-1.43.59L10.3 9.45l-7.72 7.72c-.78.78-.78 2.05 0 2.83L4 21.41c.39.39.9.59 1.41.59.51 0 1.02-.2 1.41-.59l7.78-7.78 2.81-2.81c.8-.78.8-2.07 0-2.86zM5.41 20L4 18.59l7.72-7.72 1.47 1.35L5.41 20z\"/>\n",
              "  </svg>\n",
              "      </button>\n",
              "      \n",
              "  <style>\n",
              "    .colab-df-container {\n",
              "      display:flex;\n",
              "      flex-wrap:wrap;\n",
              "      gap: 12px;\n",
              "    }\n",
              "\n",
              "    .colab-df-convert {\n",
              "      background-color: #E8F0FE;\n",
              "      border: none;\n",
              "      border-radius: 50%;\n",
              "      cursor: pointer;\n",
              "      display: none;\n",
              "      fill: #1967D2;\n",
              "      height: 32px;\n",
              "      padding: 0 0 0 0;\n",
              "      width: 32px;\n",
              "    }\n",
              "\n",
              "    .colab-df-convert:hover {\n",
              "      background-color: #E2EBFA;\n",
              "      box-shadow: 0px 1px 2px rgba(60, 64, 67, 0.3), 0px 1px 3px 1px rgba(60, 64, 67, 0.15);\n",
              "      fill: #174EA6;\n",
              "    }\n",
              "\n",
              "    [theme=dark] .colab-df-convert {\n",
              "      background-color: #3B4455;\n",
              "      fill: #D2E3FC;\n",
              "    }\n",
              "\n",
              "    [theme=dark] .colab-df-convert:hover {\n",
              "      background-color: #434B5C;\n",
              "      box-shadow: 0px 1px 3px 1px rgba(0, 0, 0, 0.15);\n",
              "      filter: drop-shadow(0px 1px 2px rgba(0, 0, 0, 0.3));\n",
              "      fill: #FFFFFF;\n",
              "    }\n",
              "  </style>\n",
              "\n",
              "      <script>\n",
              "        const buttonEl =\n",
              "          document.querySelector('#df-f41dfdb3-5edc-4589-be72-aacb403d80cd button.colab-df-convert');\n",
              "        buttonEl.style.display =\n",
              "          google.colab.kernel.accessAllowed ? 'block' : 'none';\n",
              "\n",
              "        async function convertToInteractive(key) {\n",
              "          const element = document.querySelector('#df-f41dfdb3-5edc-4589-be72-aacb403d80cd');\n",
              "          const dataTable =\n",
              "            await google.colab.kernel.invokeFunction('convertToInteractive',\n",
              "                                                     [key], {});\n",
              "          if (!dataTable) return;\n",
              "\n",
              "          const docLinkHtml = 'Like what you see? Visit the ' +\n",
              "            '<a target=\"_blank\" href=https://colab.research.google.com/notebooks/data_table.ipynb>data table notebook</a>'\n",
              "            + ' to learn more about interactive tables.';\n",
              "          element.innerHTML = '';\n",
              "          dataTable['output_type'] = 'display_data';\n",
              "          await google.colab.output.renderOutput(dataTable, element);\n",
              "          const docLink = document.createElement('div');\n",
              "          docLink.innerHTML = docLinkHtml;\n",
              "          element.appendChild(docLink);\n",
              "        }\n",
              "      </script>\n",
              "    </div>\n",
              "  </div>\n",
              "  "
            ],
            "text/plain": [
              "      id  ...                                                                                                                                                                                                                                                                                                                                                                                                             Text\n",
              "0   1436  ...  I have never seen such a movie before. I was on the edge of my seat and constantly laughing throughout the entire movie. I never thought such horrible acting existed it was all just too funny. The story behind the movie is decent but the movies scenes fail to portray them. I have never seen such a stupid movie in my life which is why it I think its worth watching. I give this movie 10 out of 1...\n",
              "1   1337  ...  FULL OF SPOILERS.This is a pretty fast and enjoyable crime thriller based on Ira Levin's play about two gay playwrights (Caine and Reeve) that plot the murder of one's rich wife (Cannon) to get the property and the insurance. The plot succeeds but Christopher Reeve as the younger and less established of the two writers decides to make a play out of the actual murder -- with only slight changes...\n",
              "2   1178  ...  While I do not think this was a perfect 10, I do agree it was way above a 6 which is what it's rated here. No, Brokedown Palace was not perfect and yes it's plot has been done many times before. That doesn't mean it shouldn't be done again if it is done well and I think this movie had some strong moments. The acting of Claire Danes, as already mentioned many times, was flawless as was Kate Bec...\n",
              "3   1659  ...  Child 'Sexploitation' is one of the most serious issues facing our world today and I feared that any film on the topic would jump straight to scenes of an explicitly sexual nature in order to shock and disturb the audience. After having seen both 'Trade' and 'Holly', one film moved me to want to actually see a change in international laws. The other felt like a poor attempt at making me cry fo...\n",
              "4   1677  ...  Hello. this is my first review for any movie i have seen. i went through the trouble of doing this to tell everyone that this is quite literally, the most disgusting movie i have ever seen. I feel like the movie was porely made, which i will give some understanding due to budget constraints on making it. I felt like i was watching a very bad remake of the movie saw. Which i can agree, saw as w...\n",
              "5   1608  ...  As good an advert for republicanism as you're ever likely to see,\"Mayerling\"is an everyday story of royal folk in late nineteenth century Austria.Set during one of Europe's seemingly incessant internal turmoils it concerns itself with the Emperor Franz Joseph (Mr James Mason),his rebellious son,the Crown Prince Rudolf (Mr Omar Sharif)the Empress(Miss Ava Gardner) and various mistresses,secret ...\n",
              "6   1004  ...  Certainly NOMAD has some of the best horse riding scenes, swordplay, and scrumptious landscape cinematography you'll likely see, but this isn't what makes a film good. It helps but the story has to shine through on top of these things. And that's where Nomad wanders.The story is stilted, giving it a sense that it was thrown together simply to make a \"cool\" movie that \"looks\" great. Not to ment...\n",
              "7   1247  ...  Let's start by the simple lines. From the viewer's side, there a couple of good \"director details\", some points of view at the movie scenes that are nice. The special effects are good enough, a good acting/good scenery also. But the story is way too simple. It shows how a elite Army bomb squad unit lives, acts and sometimes dies. It shows the drama of living in war. In my movie experience as a...\n",
              "8   1456  ...  Hardly a masterpiece. Not so well written. Beautiful cinematography i think not. This movie wasn't too terrible but it wasn't that much better than average. The main story dealing with highly immoral teens should have focused more on the forbidden romance and why this was... should have really gotten into it instead of scraping the surface with basically \"because mom says we can't.\" Some parts...\n",
              "9   1541  ...  Joan Fontaine here is entirely convincing as an amoral beauty who is entirely incapable of feeling love for anyone but herself. Her husband (Richard Ney) has lost all his money through a combination of his foolhardiness and her extravagance, and they are reduced to living in a tiny room, with little or no prospects. They continue to put on the most amazing clothes and go out and socialize as i...\n",
              "10  1787  ...  My roommate had bought this documentary and invited me to watch it with her. She's from China and only heard so much about 9/11 and wanted to know the cold hard truth and she wanted me to tell her more after the documentary. I felt awful watching this documentary, it was like reliving the nightmare and it still brings tears to my eyes.But I'm extremely grateful that I watched this documentary,...\n",
              "11  1916  ...  Having read the other comments on this film, I would like to share my own view that this is one tough movie to see unless you are a total Brooksophile. I am not.When looked at by a purely objective observer, the film is an unbalanced narrative that presents us with more undistilled neuroses than are capable of being absorbed in one sitting. It is quite difficult to watch. The Brooks character ...\n",
              "12  1783  ...  Ira Levin's Deathtrap is one of those mystery films in the tradition of Sleuth that would be very easy to spoil given any real examination of the plot of the film. Therefore I will be brief in saying it concerns a play, one man who is a famous mystery playwright, another man who is a promising writer, the playwright's wife who is much younger and sexier than the role should have been, and one ...\n",
              "13  1833  ...  This was yet another big screen outing for a US TV show from the sixties It is amusing enough but was very much to formula. Intelligent Martian lands on Earth and meets the not too bright humans, in his view.The usual wackiness ensues with the human, Bridges, eventually bonds with him and helps him to get home. Along the way he also gets the girl, Hannah.This is a nice outing for some pleasant...\n",
              "14  1043  ...  Some bad reviews here for this and I understand why but treat it as a low budget serial killer film and you might get more from it than most.I thought that this worked in a way because afterwards I felt dirty and wanted to take a long shower so that is some degree of success isn't it?I would say there is just the right level of sleaze here to get under your skin although the acting is maybe a ...\n",
              "15  1464  ...  I really wanted to like this film, but so much of it is stolen/borrowed from other work -- some of the borrowing is painfully blatant. The New York Times' review pointed out that their singing frog is awfully reminiscent of the one in the famous Warner Brothers' cartoon ('Hello my baby, hello my darlin', hello my ragtime gal...'). But I challenge anyone to watch the Fox/Blue Sky animated featu...\n",
              "16  1784  ...  The only complaint I have about this adaptation is that it is sexed-up. Things that were only hinted at in the novel are shown on-screen for some weird reason. Did they think the audience would be too stupid to understand if they were not shown everything out-right? Other than that, this is very good-quality. All the actors do marvelous jobs bringing their characters to life. For the shallow w...\n",
              "17  1218  ...  This early B entry into the patriotic category slapped a gorgeous young Gene Tierney on the ads and posters, but you have to wait a good time before you glimpse her, riding in a Hollywoodized camel train. Previously, we've set up George Sanders and Bruce Cabot in the desert as guys who barely get along, but must rally in the face of attack. I've seen Sanders as so many enjoyable cads that it w...\n",
              "18  1361  ...  Bridges of madison county is a better made version of this story. I felt the ending of this movie was not handled sensitively as they did in the original English movie. This movie is very indianised, if you are a very sensitive person who cries in a movie when hero dies in the end you'll love this movie, On the other hand if you are a fighter in life and think crying is for wimps you may not l...\n",
              "19  1493  ...  Yes, this was pure unbelievable condescending babble. We know that the French often have a skewed idea of the USA, it's puritanism and views towards sex. As an American (Hoosier) who lives in France, I have ample opportunity to observe these attitudes. And while some of these preconceived notions may be true, NOT ONE ELEMENT of the midwestern town portrayed in this film rang real. A man who ha...\n",
              "\n",
              "[20 rows x 5 columns]"
            ]
          },
          "metadata": {}
        }
      ],
      "source": [
        "analyze(big_classifier)"
      ]
    },
    {
      "cell_type": "code",
      "execution_count": null,
      "metadata": {
        "id": "nxwwblfh9pqf"
      },
      "outputs": [],
      "source": [
        ""
      ]
    }
  ],
  "metadata": {
    "colab": {
      "collapsed_sections": [],
      "name": "HW2",
      "provenance": []
    },
    "kernelspec": {
      "display_name": "Python 3 (ipykernel)",
      "language": "python",
      "name": "python3"
    },
    "language_info": {
      "codemirror_mode": {
        "name": "ipython",
        "version": 3
      },
      "file_extension": ".py",
      "mimetype": "text/x-python",
      "name": "python",
      "nbconvert_exporter": "python",
      "pygments_lexer": "ipython3",
      "version": "3.8.3"
    },
    "accelerator": "GPU"
  },
  "nbformat": 4,
  "nbformat_minor": 0
}